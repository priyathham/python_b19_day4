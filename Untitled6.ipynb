{
 "cells": [
  {
   "cell_type": "code",
   "execution_count": 1,
   "metadata": {},
   "outputs": [],
   "source": [
    "gang = ['abhi','bhaskar','raj','sampath']"
   ]
  },
  {
   "cell_type": "code",
   "execution_count": 2,
   "metadata": {},
   "outputs": [
    {
     "name": "stdout",
     "output_type": "stream",
     "text": [
      "['abhi', 'bhaskar', 'raj', 'sampath']\n"
     ]
    }
   ],
   "source": [
    "print(gang)"
   ]
  },
  {
   "cell_type": "code",
   "execution_count": 5,
   "metadata": {},
   "outputs": [
    {
     "name": "stdout",
     "output_type": "stream",
     "text": [
      "keep up the good work, abhi\n",
      "i am excepting all your practicals, abhi\n",
      "\n",
      "keep up the good work, bhaskar\n",
      "i am excepting all your practicals, bhaskar\n",
      "\n",
      "keep up the good work, raj\n",
      "i am excepting all your practicals, raj\n",
      "\n",
      "keep up the good work, sampath\n",
      "i am excepting all your practicals, sampath\n",
      "\n"
     ]
    }
   ],
   "source": [
    "for a in gang:\n",
    "    print(f\"keep up the good work, {a}\")\n",
    "    print(f\"i am excepting all your practicals, {a}\\n\")"
   ]
  },
  {
   "cell_type": "code",
   "execution_count": null,
   "metadata": {},
   "outputs": [],
   "source": []
  }
 ],
 "metadata": {
  "kernelspec": {
   "display_name": "Python 3",
   "language": "python",
   "name": "python3"
  },
  "language_info": {
   "codemirror_mode": {
    "name": "ipython",
    "version": 3
   },
   "file_extension": ".py",
   "mimetype": "text/x-python",
   "name": "python",
   "nbconvert_exporter": "python",
   "pygments_lexer": "ipython3",
   "version": "3.7.6"
  }
 },
 "nbformat": 4,
 "nbformat_minor": 4
}
